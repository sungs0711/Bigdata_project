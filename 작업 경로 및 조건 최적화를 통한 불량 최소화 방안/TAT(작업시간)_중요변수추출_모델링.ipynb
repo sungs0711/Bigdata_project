{
 "cells": [
  {
   "cell_type": "code",
   "execution_count": 2,
   "metadata": {},
   "outputs": [],
   "source": [
    "import pandas as pd\n",
    "import numpy as np\n",
    "\n",
    "import matplotlib.pyplot as plt\n",
    "import matplotlib\n",
    "\n",
    "from sklearn.tree import DecisionTreeClassifier\n",
    "from sklearn.ensemble import RandomForestClassifier\n",
    "from sklearn.ensemble import GradientBoostingClassifier\n",
    "\n",
    "from sklearn.neural_network import MLPClassifier\n",
    "\n",
    "from sklearn.preprocessing import StandardScaler\n",
    "from sklearn.preprocessing import scale, minmax_scale,robust_scale\n",
    "\n",
    "from sklearn.model_selection import train_test_split\n",
    "\n",
    "from statsmodels.api import Logit\n",
    "\n",
    "from sklearn.metrics import accuracy_score\n",
    "\n",
    "from sklearn.metrics import confusion_matrix\n",
    "\n",
    "from sklearn.metrics import f1_score, roc_curve, auc\n",
    "\n",
    "%matplotlib inline\n",
    "\n",
    "from collections import Counter\n",
    "\n",
    "import sys\n",
    "\n",
    "#export_graphviz: 나무 구조 생성 및 저장\n",
    "from sklearn.tree import export_graphviz\n",
    "\n",
    "#graphviz: 나무 구조 시각화 (.dot 확장자 파일 불러오기 등)\n",
    "import graphviz\n",
    "\n",
    "#최적 모델, 파라미터 탐색\n",
    "from sklearn.model_selection import GridSearchCV\n",
    "\n",
    "#confusion matrix\n",
    "from sklearn.metrics import confusion_matrix"
   ]
  },
  {
   "cell_type": "code",
   "execution_count": 6,
   "metadata": {},
   "outputs": [],
   "source": [
    "df_raw= pd.read_csv('~/PDP/Data Set/TAT_real_new.csv',engine='python',encoding='cp949')\n",
    "# df_raw = df_raw.drop(['INDEX','LOT_ID','PANEL_ID'],axis=1)"
   ]
  },
  {
   "cell_type": "code",
   "execution_count": 7,
   "metadata": {},
   "outputs": [
    {
     "name": "stdout",
     "output_type": "stream",
     "text": [
      "train data X size : (2743, 16)\n",
      "train data Y size : (2743,)\n",
      "test data X size : (1176, 16)\n",
      "test data X size : (1176,)\n"
     ]
    }
   ],
   "source": [
    "#설명변수, 목표변수 데이터 지정\n",
    "df_raw_x = df_raw.drop('JUDGE',axis=1, inplace=False)\n",
    "df_raw_y = df_raw['JUDGE']\n",
    "\n",
    "#train test split\n",
    "df_train_x, df_test_x,df_train_y, df_test_y = train_test_split(df_raw_x,df_raw_y,\n",
    "                                                               test_size=0.3, random_state=1234)\n",
    "\n",
    "print('train data X size : {}'.format(df_train_x.shape))\n",
    "print('train data Y size : {}'.format(df_train_y.shape))\n",
    "print('test data X size : {}'.format(df_test_x.shape))\n",
    "print('test data X size : {}'.format(df_test_y.shape)) "
   ]
  },
  {
   "cell_type": "code",
   "execution_count": 8,
   "metadata": {},
   "outputs": [
    {
     "data": {
      "text/plain": [
       "DecisionTreeClassifier(ccp_alpha=0.0, class_weight=None, criterion='gini',\n",
       "                       max_depth=None, max_features=None, max_leaf_nodes=None,\n",
       "                       min_impurity_decrease=0.0, min_impurity_split=None,\n",
       "                       min_samples_leaf=8, min_samples_split=2,\n",
       "                       min_weight_fraction_leaf=0.0, presort='deprecated',\n",
       "                       random_state=1234, splitter='best')"
      ]
     },
     "execution_count": 8,
     "metadata": {},
     "output_type": "execute_result"
    }
   ],
   "source": [
    "#의사결정 나무\n",
    "tree_final= DecisionTreeClassifier(min_samples_leaf=8,random_state=1234)\n",
    "tree_final.fit(df_train_x,df_train_y)"
   ]
  },
  {
   "cell_type": "code",
   "execution_count": 9,
   "metadata": {},
   "outputs": [
    {
     "data": {
      "text/html": [
       "<div>\n",
       "<style scoped>\n",
       "    .dataframe tbody tr th:only-of-type {\n",
       "        vertical-align: middle;\n",
       "    }\n",
       "\n",
       "    .dataframe tbody tr th {\n",
       "        vertical-align: top;\n",
       "    }\n",
       "\n",
       "    .dataframe thead th {\n",
       "        text-align: right;\n",
       "    }\n",
       "</style>\n",
       "<table border=\"1\" class=\"dataframe\">\n",
       "  <thead>\n",
       "    <tr style=\"text-align: right;\">\n",
       "      <th></th>\n",
       "      <th>Feature</th>\n",
       "      <th>Importance</th>\n",
       "    </tr>\n",
       "  </thead>\n",
       "  <tbody>\n",
       "    <tr>\n",
       "      <th>7</th>\n",
       "      <td>TAT_4DIELEC_FIRE</td>\n",
       "      <td>0.360</td>\n",
       "    </tr>\n",
       "    <tr>\n",
       "      <th>6</th>\n",
       "      <td>TAT_3BUS_2FIRE</td>\n",
       "      <td>0.161</td>\n",
       "    </tr>\n",
       "    <tr>\n",
       "      <th>5</th>\n",
       "      <td>TAT_3BUS_1DEVELOP</td>\n",
       "      <td>0.078</td>\n",
       "    </tr>\n",
       "    <tr>\n",
       "      <th>2</th>\n",
       "      <td>TAT_2AG_1PRINT</td>\n",
       "      <td>0.073</td>\n",
       "    </tr>\n",
       "    <tr>\n",
       "      <th>10</th>\n",
       "      <td>TAT_6PHOS_1R_2DRY</td>\n",
       "      <td>0.063</td>\n",
       "    </tr>\n",
       "    <tr>\n",
       "      <th>15</th>\n",
       "      <td>TAT_8AGING</td>\n",
       "      <td>0.061</td>\n",
       "    </tr>\n",
       "    <tr>\n",
       "      <th>13</th>\n",
       "      <td>TAT_6PHOS_3B_1DISPENSER</td>\n",
       "      <td>0.043</td>\n",
       "    </tr>\n",
       "    <tr>\n",
       "      <th>4</th>\n",
       "      <td>TAT_2AG_3EXPOSURE</td>\n",
       "      <td>0.037</td>\n",
       "    </tr>\n",
       "    <tr>\n",
       "      <th>14</th>\n",
       "      <td>TAT_6PHOS_4FIRE</td>\n",
       "      <td>0.024</td>\n",
       "    </tr>\n",
       "    <tr>\n",
       "      <th>9</th>\n",
       "      <td>TAT_6PHOS_1R_1DISPENSER</td>\n",
       "      <td>0.020</td>\n",
       "    </tr>\n",
       "    <tr>\n",
       "      <th>3</th>\n",
       "      <td>TAT_2AG_2RTD</td>\n",
       "      <td>0.020</td>\n",
       "    </tr>\n",
       "    <tr>\n",
       "      <th>12</th>\n",
       "      <td>TAT_6PHOS_2G_2DRY</td>\n",
       "      <td>0.020</td>\n",
       "    </tr>\n",
       "    <tr>\n",
       "      <th>1</th>\n",
       "      <td>TAT_1BLACK_2RTD</td>\n",
       "      <td>0.015</td>\n",
       "    </tr>\n",
       "    <tr>\n",
       "      <th>11</th>\n",
       "      <td>TAT_6PHOS_2G_1DISPENSER</td>\n",
       "      <td>0.014</td>\n",
       "    </tr>\n",
       "    <tr>\n",
       "      <th>0</th>\n",
       "      <td>TAT_1BLACK_1PRINT</td>\n",
       "      <td>0.011</td>\n",
       "    </tr>\n",
       "    <tr>\n",
       "      <th>8</th>\n",
       "      <td>TAT_5MGO</td>\n",
       "      <td>0.000</td>\n",
       "    </tr>\n",
       "  </tbody>\n",
       "</table>\n",
       "</div>"
      ],
      "text/plain": [
       "                    Feature  Importance\n",
       "7          TAT_4DIELEC_FIRE       0.360\n",
       "6            TAT_3BUS_2FIRE       0.161\n",
       "5         TAT_3BUS_1DEVELOP       0.078\n",
       "2            TAT_2AG_1PRINT       0.073\n",
       "10        TAT_6PHOS_1R_2DRY       0.063\n",
       "15               TAT_8AGING       0.061\n",
       "13  TAT_6PHOS_3B_1DISPENSER       0.043\n",
       "4         TAT_2AG_3EXPOSURE       0.037\n",
       "14          TAT_6PHOS_4FIRE       0.024\n",
       "9   TAT_6PHOS_1R_1DISPENSER       0.020\n",
       "3              TAT_2AG_2RTD       0.020\n",
       "12        TAT_6PHOS_2G_2DRY       0.020\n",
       "1           TAT_1BLACK_2RTD       0.015\n",
       "11  TAT_6PHOS_2G_1DISPENSER       0.014\n",
       "0         TAT_1BLACK_1PRINT       0.011\n",
       "8                  TAT_5MGO       0.000"
      ]
     },
     "execution_count": 9,
     "metadata": {},
     "output_type": "execute_result"
    }
   ],
   "source": [
    "v_feature_name = df_train_x.columns\n",
    "\n",
    "df_importance=pd.DataFrame()\n",
    "df_importance['Feature'] = v_feature_name\n",
    "df_importance['Importance'] = tree_final.feature_importances_\n",
    "\n",
    "#df_feature_importance의 테이블을 중요도별로 정렬\n",
    "df_importance.sort_values(\"Importance\", ascending=False, inplace=True)\n",
    "df_importance = df_importance.round(3).head(20)\n",
    "df_importance"
   ]
  },
  {
   "cell_type": "code",
   "execution_count": 10,
   "metadata": {},
   "outputs": [
    {
     "data": {
      "text/plain": [
       "Text(0, 0.5, 'Feature')"
      ]
     },
     "execution_count": 10,
     "metadata": {},
     "output_type": "execute_result"
    },
    {
     "data": {
      "image/png": "[encoded data removed]",
      "text/plain": [
       "<Figure size 432x288 with 1 Axes>"
      ]
     },
     "metadata": {
      "needs_background": "light"
     },
     "output_type": "display_data"
    }
   ],
   "source": [
    "#설명변수 중요도 그래프, 중요도가 높은 변수를 상위에 그림\n",
    "df_importance.sort_values(\"Importance\",ascending=True, inplace = True)\n",
    "coordinates = range(len(df_importance))\n",
    "plt.barh(y=coordinates,width = df_importance['Importance'])\n",
    "plt.yticks(coordinates,df_importance['Feature'])\n",
    "plt.xlabel('DT Feature Importance')\n",
    "plt.ylabel('Feature')"
   ]
  },
  {
   "cell_type": "markdown",
   "metadata": {},
   "source": [
    "# 랜덤포레스트"
   ]
  },
  {
   "cell_type": "code",
   "execution_count": 11,
   "metadata": {
    "scrolled": true
   },
   "outputs": [
    {
     "data": {
      "text/plain": [
       "RandomForestClassifier(bootstrap=True, ccp_alpha=0.0, class_weight=None,\n",
       "                       criterion='gini', max_depth=None, max_features='auto',\n",
       "                       max_leaf_nodes=None, max_samples=None,\n",
       "                       min_impurity_decrease=0.0, min_impurity_split=None,\n",
       "                       min_samples_leaf=8, min_samples_split=2,\n",
       "                       min_weight_fraction_leaf=0.0, n_estimators=100,\n",
       "                       n_jobs=None, oob_score=False, random_state=1234,\n",
       "                       verbose=0, warm_start=False)"
      ]
     },
     "execution_count": 11,
     "metadata": {},
     "output_type": "execute_result"
    }
   ],
   "source": [
    "rf_final = RandomForestClassifier(random_state = 1234,n_estimators = 100 , min_samples_leaf = 8)\n",
    "rf_final.fit(df_train_x,df_train_y)"
   ]
  },
  {
   "cell_type": "code",
   "execution_count": 12,
   "metadata": {},
   "outputs": [
    {
     "data": {
      "text/html": [
       "<div>\n",
       "<style scoped>\n",
       "    .dataframe tbody tr th:only-of-type {\n",
       "        vertical-align: middle;\n",
       "    }\n",
       "\n",
       "    .dataframe tbody tr th {\n",
       "        vertical-align: top;\n",
       "    }\n",
       "\n",
       "    .dataframe thead th {\n",
       "        text-align: right;\n",
       "    }\n",
       "</style>\n",
       "<table border=\"1\" class=\"dataframe\">\n",
       "  <thead>\n",
       "    <tr style=\"text-align: right;\">\n",
       "      <th></th>\n",
       "      <th>Feature</th>\n",
       "      <th>Importance</th>\n",
       "    </tr>\n",
       "  </thead>\n",
       "  <tbody>\n",
       "    <tr>\n",
       "      <th>7</th>\n",
       "      <td>TAT_4DIELEC_FIRE</td>\n",
       "      <td>0.318</td>\n",
       "    </tr>\n",
       "    <tr>\n",
       "      <th>6</th>\n",
       "      <td>TAT_3BUS_2FIRE</td>\n",
       "      <td>0.100</td>\n",
       "    </tr>\n",
       "    <tr>\n",
       "      <th>13</th>\n",
       "      <td>TAT_6PHOS_3B_1DISPENSER</td>\n",
       "      <td>0.092</td>\n",
       "    </tr>\n",
       "    <tr>\n",
       "      <th>14</th>\n",
       "      <td>TAT_6PHOS_4FIRE</td>\n",
       "      <td>0.065</td>\n",
       "    </tr>\n",
       "    <tr>\n",
       "      <th>5</th>\n",
       "      <td>TAT_3BUS_1DEVELOP</td>\n",
       "      <td>0.061</td>\n",
       "    </tr>\n",
       "    <tr>\n",
       "      <th>2</th>\n",
       "      <td>TAT_2AG_1PRINT</td>\n",
       "      <td>0.053</td>\n",
       "    </tr>\n",
       "    <tr>\n",
       "      <th>10</th>\n",
       "      <td>TAT_6PHOS_1R_2DRY</td>\n",
       "      <td>0.052</td>\n",
       "    </tr>\n",
       "    <tr>\n",
       "      <th>4</th>\n",
       "      <td>TAT_2AG_3EXPOSURE</td>\n",
       "      <td>0.048</td>\n",
       "    </tr>\n",
       "    <tr>\n",
       "      <th>12</th>\n",
       "      <td>TAT_6PHOS_2G_2DRY</td>\n",
       "      <td>0.044</td>\n",
       "    </tr>\n",
       "    <tr>\n",
       "      <th>15</th>\n",
       "      <td>TAT_8AGING</td>\n",
       "      <td>0.041</td>\n",
       "    </tr>\n",
       "    <tr>\n",
       "      <th>0</th>\n",
       "      <td>TAT_1BLACK_1PRINT</td>\n",
       "      <td>0.027</td>\n",
       "    </tr>\n",
       "    <tr>\n",
       "      <th>1</th>\n",
       "      <td>TAT_1BLACK_2RTD</td>\n",
       "      <td>0.026</td>\n",
       "    </tr>\n",
       "    <tr>\n",
       "      <th>11</th>\n",
       "      <td>TAT_6PHOS_2G_1DISPENSER</td>\n",
       "      <td>0.023</td>\n",
       "    </tr>\n",
       "    <tr>\n",
       "      <th>9</th>\n",
       "      <td>TAT_6PHOS_1R_1DISPENSER</td>\n",
       "      <td>0.022</td>\n",
       "    </tr>\n",
       "    <tr>\n",
       "      <th>3</th>\n",
       "      <td>TAT_2AG_2RTD</td>\n",
       "      <td>0.017</td>\n",
       "    </tr>\n",
       "    <tr>\n",
       "      <th>8</th>\n",
       "      <td>TAT_5MGO</td>\n",
       "      <td>0.011</td>\n",
       "    </tr>\n",
       "  </tbody>\n",
       "</table>\n",
       "</div>"
      ],
      "text/plain": [
       "                    Feature  Importance\n",
       "7          TAT_4DIELEC_FIRE       0.318\n",
       "6            TAT_3BUS_2FIRE       0.100\n",
       "13  TAT_6PHOS_3B_1DISPENSER       0.092\n",
       "14          TAT_6PHOS_4FIRE       0.065\n",
       "5         TAT_3BUS_1DEVELOP       0.061\n",
       "2            TAT_2AG_1PRINT       0.053\n",
       "10        TAT_6PHOS_1R_2DRY       0.052\n",
       "4         TAT_2AG_3EXPOSURE       0.048\n",
       "12        TAT_6PHOS_2G_2DRY       0.044\n",
       "15               TAT_8AGING       0.041\n",
       "0         TAT_1BLACK_1PRINT       0.027\n",
       "1           TAT_1BLACK_2RTD       0.026\n",
       "11  TAT_6PHOS_2G_1DISPENSER       0.023\n",
       "9   TAT_6PHOS_1R_1DISPENSER       0.022\n",
       "3              TAT_2AG_2RTD       0.017\n",
       "8                  TAT_5MGO       0.011"
      ]
     },
     "execution_count": 12,
     "metadata": {},
     "output_type": "execute_result"
    }
   ],
   "source": [
    "v_feature_name = df_train_x.columns\n",
    "\n",
    "# 설명변수 중요도 확인 및 테이블로 저장\n",
    "df_importance = pd.DataFrame()\n",
    "df_importance[\"Feature\"] = v_feature_name\n",
    "df_importance[\"Importance\"] = rf_final.feature_importances_\n",
    "\n",
    "# 데이블을 중요도 순으로 정렬￼TAT_RF_MODELING.ipynb\n",
    "\n",
    "df_importance.sort_values(\"Importance\", ascending = False, inplace = True)\n",
    "df_importance = df_importance.round(3).head(20)\n",
    "df_importance"
   ]
  },
  {
   "cell_type": "code",
   "execution_count": 13,
   "metadata": {},
   "outputs": [
    {
     "data": {
      "text/plain": [
       "Text(0, 0.5, 'Feature')"
      ]
     },
     "execution_count": 13,
     "metadata": {},
     "output_type": "execute_result"
    },
    {
     "data": {
      "image/png": "[encoded data removed]",
      "text/plain": [
       "<Figure size 432x288 with 1 Axes>"
      ]
     },
     "metadata": {
      "needs_background": "light"
     },
     "output_type": "display_data"
    }
   ],
   "source": [
    "df_importance.sort_values(\"Importance\", ascending = True, inplace = True)\n",
    "coordinates = range(len(df_importance))\n",
    "plt.barh(y = coordinates,width = df_importance[\"Importance\"] )\n",
    "plt.yticks(coordinates, df_importance[\"Feature\"])\n",
    "plt.xlabel(\"RF Feature Importance\")\n",
    "plt.ylabel(\"Feature\")"
   ]
  },
  {
   "cell_type": "markdown",
   "metadata": {},
   "source": [
    "# 그래디언트 부스팅"
   ]
  },
  {
   "cell_type": "code",
   "execution_count": 14,
   "metadata": {
    "scrolled": true
   },
   "outputs": [
    {
     "data": {
      "text/plain": [
       "RandomForestClassifier(bootstrap=True, ccp_alpha=0.0, class_weight=None,\n",
       "                       criterion='gini', max_depth=None, max_features='auto',\n",
       "                       max_leaf_nodes=None, max_samples=None,\n",
       "                       min_impurity_decrease=0.0, min_impurity_split=None,\n",
       "                       min_samples_leaf=8, min_samples_split=2,\n",
       "                       min_weight_fraction_leaf=0.0, n_estimators=100,\n",
       "                       n_jobs=None, oob_score=False, random_state=1234,\n",
       "                       verbose=0, warm_start=False)"
      ]
     },
     "execution_count": 14,
     "metadata": {},
     "output_type": "execute_result"
    }
   ],
   "source": [
    "rf_final = RandomForestClassifier(random_state = 1234,n_estimators = 100 , min_samples_leaf = 8)\n",
    "rf_final.fit(df_train_x,df_train_y)"
   ]
  },
  {
   "cell_type": "code",
   "execution_count": 15,
   "metadata": {},
   "outputs": [
    {
     "data": {
      "text/html": [
       "<div>\n",
       "<style scoped>\n",
       "    .dataframe tbody tr th:only-of-type {\n",
       "        vertical-align: middle;\n",
       "    }\n",
       "\n",
       "    .dataframe tbody tr th {\n",
       "        vertical-align: top;\n",
       "    }\n",
       "\n",
       "    .dataframe thead th {\n",
       "        text-align: right;\n",
       "    }\n",
       "</style>\n",
       "<table border=\"1\" class=\"dataframe\">\n",
       "  <thead>\n",
       "    <tr style=\"text-align: right;\">\n",
       "      <th></th>\n",
       "      <th>Feature</th>\n",
       "      <th>Importance</th>\n",
       "    </tr>\n",
       "  </thead>\n",
       "  <tbody>\n",
       "    <tr>\n",
       "      <th>7</th>\n",
       "      <td>TAT_4DIELEC_FIRE</td>\n",
       "      <td>0.318</td>\n",
       "    </tr>\n",
       "    <tr>\n",
       "      <th>6</th>\n",
       "      <td>TAT_3BUS_2FIRE</td>\n",
       "      <td>0.100</td>\n",
       "    </tr>\n",
       "    <tr>\n",
       "      <th>13</th>\n",
       "      <td>TAT_6PHOS_3B_1DISPENSER</td>\n",
       "      <td>0.092</td>\n",
       "    </tr>\n",
       "    <tr>\n",
       "      <th>14</th>\n",
       "      <td>TAT_6PHOS_4FIRE</td>\n",
       "      <td>0.065</td>\n",
       "    </tr>\n",
       "    <tr>\n",
       "      <th>5</th>\n",
       "      <td>TAT_3BUS_1DEVELOP</td>\n",
       "      <td>0.061</td>\n",
       "    </tr>\n",
       "    <tr>\n",
       "      <th>2</th>\n",
       "      <td>TAT_2AG_1PRINT</td>\n",
       "      <td>0.053</td>\n",
       "    </tr>\n",
       "    <tr>\n",
       "      <th>10</th>\n",
       "      <td>TAT_6PHOS_1R_2DRY</td>\n",
       "      <td>0.052</td>\n",
       "    </tr>\n",
       "    <tr>\n",
       "      <th>4</th>\n",
       "      <td>TAT_2AG_3EXPOSURE</td>\n",
       "      <td>0.048</td>\n",
       "    </tr>\n",
       "    <tr>\n",
       "      <th>12</th>\n",
       "      <td>TAT_6PHOS_2G_2DRY</td>\n",
       "      <td>0.044</td>\n",
       "    </tr>\n",
       "    <tr>\n",
       "      <th>15</th>\n",
       "      <td>TAT_8AGING</td>\n",
       "      <td>0.041</td>\n",
       "    </tr>\n",
       "    <tr>\n",
       "      <th>0</th>\n",
       "      <td>TAT_1BLACK_1PRINT</td>\n",
       "      <td>0.027</td>\n",
       "    </tr>\n",
       "    <tr>\n",
       "      <th>1</th>\n",
       "      <td>TAT_1BLACK_2RTD</td>\n",
       "      <td>0.026</td>\n",
       "    </tr>\n",
       "    <tr>\n",
       "      <th>11</th>\n",
       "      <td>TAT_6PHOS_2G_1DISPENSER</td>\n",
       "      <td>0.023</td>\n",
       "    </tr>\n",
       "    <tr>\n",
       "      <th>9</th>\n",
       "      <td>TAT_6PHOS_1R_1DISPENSER</td>\n",
       "      <td>0.022</td>\n",
       "    </tr>\n",
       "    <tr>\n",
       "      <th>3</th>\n",
       "      <td>TAT_2AG_2RTD</td>\n",
       "      <td>0.017</td>\n",
       "    </tr>\n",
       "    <tr>\n",
       "      <th>8</th>\n",
       "      <td>TAT_5MGO</td>\n",
       "      <td>0.011</td>\n",
       "    </tr>\n",
       "  </tbody>\n",
       "</table>\n",
       "</div>"
      ],
      "text/plain": [
       "                    Feature  Importance\n",
       "7          TAT_4DIELEC_FIRE       0.318\n",
       "6            TAT_3BUS_2FIRE       0.100\n",
       "13  TAT_6PHOS_3B_1DISPENSER       0.092\n",
       "14          TAT_6PHOS_4FIRE       0.065\n",
       "5         TAT_3BUS_1DEVELOP       0.061\n",
       "2            TAT_2AG_1PRINT       0.053\n",
       "10        TAT_6PHOS_1R_2DRY       0.052\n",
       "4         TAT_2AG_3EXPOSURE       0.048\n",
       "12        TAT_6PHOS_2G_2DRY       0.044\n",
       "15               TAT_8AGING       0.041\n",
       "0         TAT_1BLACK_1PRINT       0.027\n",
       "1           TAT_1BLACK_2RTD       0.026\n",
       "11  TAT_6PHOS_2G_1DISPENSER       0.023\n",
       "9   TAT_6PHOS_1R_1DISPENSER       0.022\n",
       "3              TAT_2AG_2RTD       0.017\n",
       "8                  TAT_5MGO       0.011"
      ]
     },
     "execution_count": 15,
     "metadata": {},
     "output_type": "execute_result"
    }
   ],
   "source": [
    "v_feature_name = df_train_x.columns\n",
    "\n",
    "# 설명변수 중요도 확인 및 테이블로 저장\n",
    "df_importance = pd.DataFrame()\n",
    "df_importance[\"Feature\"] = v_feature_name\n",
    "df_importance[\"Importance\"] = rf_final.feature_importances_\n",
    "\n",
    "# 데이블을 중요도 순으로 정렬￼TAT_RF_MODELING.ipynb\n",
    "\n",
    "df_importance.sort_values(\"Importance\", ascending = False, inplace = True)\n",
    "df_importance = df_importance.round(3).head(20)\n",
    "df_importance"
   ]
  },
  {
   "cell_type": "code",
   "execution_count": 16,
   "metadata": {},
   "outputs": [
    {
     "data": {
      "text/plain": [
       "Text(0, 0.5, 'Feature')"
      ]
     },
     "execution_count": 16,
     "metadata": {},
     "output_type": "execute_result"
    },
    {
     "data": {
      "image/png": "[encoded data removed]",
      "text/plain": [
       "<Figure size 432x288 with 1 Axes>"
      ]
     },
     "metadata": {
      "needs_background": "light"
     },
     "output_type": "display_data"
    }
   ],
   "source": [
    "df_importance.sort_values(\"Importance\", ascending = True, inplace = True)\n",
    "coordinates = range(len(df_importance))\n",
    "plt.barh(y = coordinates,width = df_importance[\"Importance\"] )\n",
    "plt.yticks(coordinates, df_importance[\"Feature\"])\n",
    "plt.xlabel(\"RF Feature Importance\")\n",
    "plt.ylabel(\"Feature\")"
   ]
  },
  {
   "cell_type": "code",
   "execution_count": null,
   "metadata": {},
   "outputs": [],
   "source": []
  }
 ],
 "metadata": {
  "kernelspec": {
   "display_name": "Python 3",
   "language": "python",
   "name": "python3"
  },
  "language_info": {
   "codemirror_mode": {
    "name": "ipython",
    "version": 3
   },
   "file_extension": ".py",
   "mimetype": "text/x-python",
   "name": "python",
   "nbconvert_exporter": "python",
   "pygments_lexer": "ipython3",
   "version": "3.7.6"
  }
 },
 "nbformat": 4,
 "nbformat_minor": 4
}
