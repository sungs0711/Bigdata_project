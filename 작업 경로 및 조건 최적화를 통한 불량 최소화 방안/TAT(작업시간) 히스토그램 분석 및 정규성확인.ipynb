{
 "cells": [
  {
   "cell_type": "code",
   "execution_count": 15,
   "metadata": {},
   "outputs": [],
   "source": [
    "import matplotlib.pyplot as plt\n",
    "import pandas as pd\n",
    "import numpy as np\n",
    "import seaborn as sns\n",
    "%matplotlib inline\n",
    "import scipy.stats as stats\n",
    "from scipy.stats import norm\n",
    "from scipy.stats import shapiro\n",
    "import math\n",
    "from sklearn.preprocessing import StandardScaler"
   ]
  },
  {
   "cell_type": "code",
   "execution_count": 6,
   "metadata": {},
   "outputs": [
    {
     "data": {
      "text/html": [
       "<div>\n",
       "<style scoped>\n",
       "    .dataframe tbody tr th:only-of-type {\n",
       "        vertical-align: middle;\n",
       "    }\n",
       "\n",
       "    .dataframe tbody tr th {\n",
       "        vertical-align: top;\n",
       "    }\n",
       "\n",
       "    .dataframe thead th {\n",
       "        text-align: right;\n",
       "    }\n",
       "</style>\n",
       "<table border=\"1\" class=\"dataframe\">\n",
       "  <thead>\n",
       "    <tr style=\"text-align: right;\">\n",
       "      <th></th>\n",
       "      <th>JUDGE</th>\n",
       "      <th>INDEX</th>\n",
       "      <th>LOT_ID</th>\n",
       "      <th>PANEL_ID</th>\n",
       "      <th>TIME_1BLACK</th>\n",
       "      <th>TIME_2AG</th>\n",
       "      <th>TIME_3BUS</th>\n",
       "      <th>TIME_4DIELEC</th>\n",
       "      <th>TIME_5MGO</th>\n",
       "      <th>TIME_6PHOS</th>\n",
       "      <th>...</th>\n",
       "      <th>TAT_4DIELEC_FIRE</th>\n",
       "      <th>TAT_5MGO</th>\n",
       "      <th>TAT_6PHOS_1R_1DISPENSER</th>\n",
       "      <th>TAT_6PHOS_1R_2DRY</th>\n",
       "      <th>TAT_6PHOS_2G_1DISPENSER</th>\n",
       "      <th>TAT_6PHOS_2G_2DRY</th>\n",
       "      <th>TAT_6PHOS_3B_1DISPENSER</th>\n",
       "      <th>TAT_6PHOS_4FIRE</th>\n",
       "      <th>TAT_7PASTE</th>\n",
       "      <th>TAT_8AGING</th>\n",
       "    </tr>\n",
       "  </thead>\n",
       "  <tbody>\n",
       "    <tr>\n",
       "      <th>0</th>\n",
       "      <td>양품</td>\n",
       "      <td>1</td>\n",
       "      <td>LOT-101</td>\n",
       "      <td>PNL-01</td>\n",
       "      <td>2019-04-01 0:01</td>\n",
       "      <td>2019-04-01 5:21</td>\n",
       "      <td>2019-04-01 11:01</td>\n",
       "      <td>2019-04-06 13:41</td>\n",
       "      <td>2019-04-11 3:41</td>\n",
       "      <td>2019-04-03 20:20</td>\n",
       "      <td>...</td>\n",
       "      <td>6447.0</td>\n",
       "      <td>530.0</td>\n",
       "      <td>76.0</td>\n",
       "      <td>333.0</td>\n",
       "      <td>88.0</td>\n",
       "      <td>396.0</td>\n",
       "      <td>86.0</td>\n",
       "      <td>7140.0</td>\n",
       "      <td>0.0</td>\n",
       "      <td>10074.0</td>\n",
       "    </tr>\n",
       "    <tr>\n",
       "      <th>1</th>\n",
       "      <td>양품</td>\n",
       "      <td>2</td>\n",
       "      <td>LOT-101</td>\n",
       "      <td>PNL-02</td>\n",
       "      <td>2019-04-01 0:45</td>\n",
       "      <td>2019-04-01 6:05</td>\n",
       "      <td>2019-04-01 11:45</td>\n",
       "      <td>2019-04-06 14:25</td>\n",
       "      <td>2019-04-11 4:25</td>\n",
       "      <td>2019-04-03 21:04</td>\n",
       "      <td>...</td>\n",
       "      <td>6600.0</td>\n",
       "      <td>530.0</td>\n",
       "      <td>80.0</td>\n",
       "      <td>438.0</td>\n",
       "      <td>82.0</td>\n",
       "      <td>381.0</td>\n",
       "      <td>84.0</td>\n",
       "      <td>6956.0</td>\n",
       "      <td>0.0</td>\n",
       "      <td>10075.0</td>\n",
       "    </tr>\n",
       "    <tr>\n",
       "      <th>2</th>\n",
       "      <td>양품</td>\n",
       "      <td>3</td>\n",
       "      <td>LOT-101</td>\n",
       "      <td>PNL-03</td>\n",
       "      <td>2019-04-01 1:29</td>\n",
       "      <td>2019-04-01 6:49</td>\n",
       "      <td>2019-04-01 12:29</td>\n",
       "      <td>2019-04-06 15:09</td>\n",
       "      <td>2019-04-11 5:09</td>\n",
       "      <td>2019-04-03 21:48</td>\n",
       "      <td>...</td>\n",
       "      <td>6597.0</td>\n",
       "      <td>530.0</td>\n",
       "      <td>80.0</td>\n",
       "      <td>420.0</td>\n",
       "      <td>92.0</td>\n",
       "      <td>396.0</td>\n",
       "      <td>86.0</td>\n",
       "      <td>6840.0</td>\n",
       "      <td>0.0</td>\n",
       "      <td>10645.0</td>\n",
       "    </tr>\n",
       "    <tr>\n",
       "      <th>3</th>\n",
       "      <td>양품</td>\n",
       "      <td>4</td>\n",
       "      <td>LOT-101</td>\n",
       "      <td>PNL-04</td>\n",
       "      <td>2019-04-01 2:13</td>\n",
       "      <td>2019-04-01 7:33</td>\n",
       "      <td>2019-04-01 13:13</td>\n",
       "      <td>2019-04-06 15:53</td>\n",
       "      <td>2019-04-11 5:53</td>\n",
       "      <td>2019-04-03 22:32</td>\n",
       "      <td>...</td>\n",
       "      <td>6420.0</td>\n",
       "      <td>530.0</td>\n",
       "      <td>78.0</td>\n",
       "      <td>429.0</td>\n",
       "      <td>78.0</td>\n",
       "      <td>399.0</td>\n",
       "      <td>90.0</td>\n",
       "      <td>6720.0</td>\n",
       "      <td>0.0</td>\n",
       "      <td>10076.0</td>\n",
       "    </tr>\n",
       "    <tr>\n",
       "      <th>4</th>\n",
       "      <td>양품</td>\n",
       "      <td>5</td>\n",
       "      <td>LOT-101</td>\n",
       "      <td>PNL-05</td>\n",
       "      <td>2019-04-01 2:58</td>\n",
       "      <td>2019-04-01 8:18</td>\n",
       "      <td>2019-04-01 13:58</td>\n",
       "      <td>2019-04-06 16:38</td>\n",
       "      <td>2019-04-11 6:38</td>\n",
       "      <td>2019-04-03 23:17</td>\n",
       "      <td>...</td>\n",
       "      <td>6453.0</td>\n",
       "      <td>540.0</td>\n",
       "      <td>76.0</td>\n",
       "      <td>363.0</td>\n",
       "      <td>82.0</td>\n",
       "      <td>393.0</td>\n",
       "      <td>84.0</td>\n",
       "      <td>7110.0</td>\n",
       "      <td>0.0</td>\n",
       "      <td>10074.0</td>\n",
       "    </tr>\n",
       "  </tbody>\n",
       "</table>\n",
       "<p>5 rows × 29 columns</p>\n",
       "</div>"
      ],
      "text/plain": [
       "  JUDGE  INDEX   LOT_ID PANEL_ID      TIME_1BLACK         TIME_2AG  \\\n",
       "0    양품      1  LOT-101   PNL-01  2019-04-01 0:01  2019-04-01 5:21   \n",
       "1    양품      2  LOT-101   PNL-02  2019-04-01 0:45  2019-04-01 6:05   \n",
       "2    양품      3  LOT-101   PNL-03  2019-04-01 1:29  2019-04-01 6:49   \n",
       "3    양품      4  LOT-101   PNL-04  2019-04-01 2:13  2019-04-01 7:33   \n",
       "4    양품      5  LOT-101   PNL-05  2019-04-01 2:58  2019-04-01 8:18   \n",
       "\n",
       "          TIME_3BUS      TIME_4DIELEC        TIME_5MGO        TIME_6PHOS  ...  \\\n",
       "0  2019-04-01 11:01  2019-04-06 13:41  2019-04-11 3:41  2019-04-03 20:20  ...   \n",
       "1  2019-04-01 11:45  2019-04-06 14:25  2019-04-11 4:25  2019-04-03 21:04  ...   \n",
       "2  2019-04-01 12:29  2019-04-06 15:09  2019-04-11 5:09  2019-04-03 21:48  ...   \n",
       "3  2019-04-01 13:13  2019-04-06 15:53  2019-04-11 5:53  2019-04-03 22:32  ...   \n",
       "4  2019-04-01 13:58  2019-04-06 16:38  2019-04-11 6:38  2019-04-03 23:17  ...   \n",
       "\n",
       "  TAT_4DIELEC_FIRE TAT_5MGO  TAT_6PHOS_1R_1DISPENSER  TAT_6PHOS_1R_2DRY  \\\n",
       "0           6447.0    530.0                     76.0              333.0   \n",
       "1           6600.0    530.0                     80.0              438.0   \n",
       "2           6597.0    530.0                     80.0              420.0   \n",
       "3           6420.0    530.0                     78.0              429.0   \n",
       "4           6453.0    540.0                     76.0              363.0   \n",
       "\n",
       "   TAT_6PHOS_2G_1DISPENSER  TAT_6PHOS_2G_2DRY  TAT_6PHOS_3B_1DISPENSER  \\\n",
       "0                     88.0              396.0                     86.0   \n",
       "1                     82.0              381.0                     84.0   \n",
       "2                     92.0              396.0                     86.0   \n",
       "3                     78.0              399.0                     90.0   \n",
       "4                     82.0              393.0                     84.0   \n",
       "\n",
       "   TAT_6PHOS_4FIRE  TAT_7PASTE  TAT_8AGING  \n",
       "0           7140.0         0.0     10074.0  \n",
       "1           6956.0         0.0     10075.0  \n",
       "2           6840.0         0.0     10645.0  \n",
       "3           6720.0         0.0     10076.0  \n",
       "4           7110.0         0.0     10074.0  \n",
       "\n",
       "[5 rows x 29 columns]"
      ]
     },
     "execution_count": 6,
     "metadata": {},
     "output_type": "execute_result"
    }
   ],
   "source": [
    "df_raw_tat= pd.read_csv('~/PDP/Data Set/MFG_TAT.csv',engine='python',encoding='cp949')\n",
    "df_raw_tat.head()"
   ]
  },
  {
   "cell_type": "code",
   "execution_count": 8,
   "metadata": {},
   "outputs": [],
   "source": [
    "def fun_plot_his(data,var):\n",
    "    plt.hist(data[data['JUDGE']=='양품'][var],label='good',alpha=0.5)\n",
    "    plt.hist(data[data['JUDGE']=='명점'][var],label='bad',alpha=0.5)\n",
    "    plt.title(var)\n",
    "    plt.legend()"
   ]
  },
  {
   "cell_type": "code",
   "execution_count": 9,
   "metadata": {},
   "outputs": [
    {
     "name": "stderr",
     "output_type": "stream",
     "text": [
      "/home/piai/anaconda3/lib/python3.7/site-packages/numpy/lib/histograms.py:839: RuntimeWarning: invalid value encountered in greater_equal\n",
      "  keep = (tmp_a >= first_edge)\n",
      "/home/piai/anaconda3/lib/python3.7/site-packages/numpy/lib/histograms.py:840: RuntimeWarning: invalid value encountered in less_equal\n",
      "  keep &= (tmp_a <= last_edge)\n"
     ]
    },
    {
     "data": {
      "image/png": "[encoded data removed]",
      "text/plain": [
       "<Figure size 432x288 with 1 Axes>"
      ]
     },
     "metadata": {
      "needs_background": "light"
     },
     "output_type": "display_data"
    }
   ],
   "source": [
    "fun_plot_his(df_raw_tat,'TAT_4DIELEC_FIRE')"
   ]
  },
  {
   "cell_type": "code",
   "execution_count": 10,
   "metadata": {},
   "outputs": [
    {
     "data": {
      "image/png": "[encoded data removed]",
      "text/plain": [
       "<Figure size 432x288 with 1 Axes>"
      ]
     },
     "metadata": {
      "needs_background": "light"
     },
     "output_type": "display_data"
    }
   ],
   "source": [
    "fun_plot_his(df_raw_tat,'TAT_3BUS_2FIRE')"
   ]
  },
  {
   "cell_type": "code",
   "execution_count": 11,
   "metadata": {},
   "outputs": [
    {
     "data": {
      "image/png": "[encoded data removed]",
      "text/plain": [
       "<Figure size 432x288 with 1 Axes>"
      ]
     },
     "metadata": {
      "needs_background": "light"
     },
     "output_type": "display_data"
    }
   ],
   "source": [
    "fun_plot_his(df_raw_tat,'TAT_6PHOS_3B_1DISPENSER')"
   ]
  },
  {
   "cell_type": "code",
   "execution_count": 12,
   "metadata": {},
   "outputs": [
    {
     "data": {
      "image/png": "[encoded data removed]",
      "text/plain": [
       "<Figure size 432x288 with 1 Axes>"
      ]
     },
     "metadata": {
      "needs_background": "light"
     },
     "output_type": "display_data"
    }
   ],
   "source": [
    "fun_plot_his(df_raw_tat,'TAT_3BUS_1DEVELOP')"
   ]
  },
  {
   "cell_type": "code",
   "execution_count": 13,
   "metadata": {},
   "outputs": [
    {
     "data": {
      "image/png": "[encoded data removed]",
      "text/plain": [
       "<Figure size 432x288 with 1 Axes>"
      ]
     },
     "metadata": {
      "needs_background": "light"
     },
     "output_type": "display_data"
    }
   ],
   "source": [
    "fun_plot_his(df_raw_tat,'TAT_2AG_1PRINT')"
   ]
  },
  {
   "cell_type": "code",
   "execution_count": 14,
   "metadata": {},
   "outputs": [
    {
     "data": {
      "image/png": "[encoded data removed]",
      "text/plain": [
       "<Figure size 432x288 with 1 Axes>"
      ]
     },
     "metadata": {
      "needs_background": "light"
     },
     "output_type": "display_data"
    }
   ],
   "source": [
    "fun_plot_his(df_raw_tat,'TAT_2AG_2RTD')"
   ]
  },
  {
   "cell_type": "markdown",
   "metadata": {},
   "source": [
    "- DT, RF, GB모델링 작업으로 얻은 변수 중요도를 통해 5개의 변수를 선별했다.\n",
    "- 각 변수들의 히스토그램을 그려 해당 변수의 요소값(작업시간)을 X값으로 넣고 빈도수를 Y값으로 넣었다.\n",
    "- 모든 변수들의 양품과 명점의 빈도수를 비교하면 작업시간 별로 비슷한 경향의 빈도수를 보여주고 있다.\n",
    "- 전체 작업시간 내에 불규칙한 명점 발생의 경향을 보이지 않고 히스토그램을 통해 명점의 발생 유무가 작업시간에 의해 큰 영향을 받는다고 판단하기 어렵다. 그러므로 작업시간 변수는 명점 발생에 충분한 설명력을 갖추지 않아 분석에서 제외 한다."
   ]
  },
  {
   "cell_type": "markdown",
   "metadata": {},
   "source": [
    "# 정규성 판단"
   ]
  },
  {
   "cell_type": "code",
   "execution_count": 16,
   "metadata": {},
   "outputs": [
    {
     "name": "stdout",
     "output_type": "stream",
     "text": [
      "Requirement already satisfied: graphviz in /home/piai/anaconda3/lib/python3.7/site-packages (0.14)\r\n"
     ]
    }
   ],
   "source": [
    "!pip install graphviz"
   ]
  },
  {
   "cell_type": "code",
   "execution_count": 20,
   "metadata": {},
   "outputs": [],
   "source": [
    "good=[]\n",
    "bad=[]\n",
    "col_name=['TAT_4DIELEC_FIRE']\n",
    "for i in range(len(df_raw_tat)):\n",
    "    if math.isnan(df_raw_tat['TAT_4DIELEC_FIRE'][i])==False and df_raw_tat['JUDGE'][i]=='양품':\n",
    "        good.append(float(df_raw_tat['TAT_4DIELEC_FIRE'][i]))\n",
    "    elif math.isnan(df_raw_tat['TAT_4DIELEC_FIRE'][i])==False and df_raw_tat['JUDGE'][i]=='명점':\n",
    "        bad.append(float(df_raw_tat['TAT_4DIELEC_FIRE'][i]))\n",
    "good1=pd.DataFrame(good,columns=col_name)\n",
    "bad1=pd.DataFrame(bad,columns=col_name)"
   ]
  },
  {
   "cell_type": "code",
   "execution_count": 21,
   "metadata": {},
   "outputs": [
    {
     "data": {
      "text/plain": [
       "<matplotlib.legend.Legend at 0x7f275afb7910>"
      ]
     },
     "execution_count": 21,
     "metadata": {},
     "output_type": "execute_result"
    },
    {
     "data": {
      "image/png": "[encoded data removed]",
      "text/plain": [
       "<Figure size 432x288 with 1 Axes>"
      ]
     },
     "metadata": {
      "needs_background": "light"
     },
     "output_type": "display_data"
    }
   ],
   "source": [
    "mu= np.mean(good1)\n",
    "sigma=np.std(good1)\n",
    "normal = norm.rvs(size=10000, loc=mu, scale=np.var(good1))\n",
    "ax = sns.distplot(normal, bins = 100, kde=True, color='red',label='good',hist=True)\n",
    "plt.legend()"
   ]
  },
  {
   "cell_type": "code",
   "execution_count": 22,
   "metadata": {},
   "outputs": [
    {
     "data": {
      "text/plain": [
       "<matplotlib.legend.Legend at 0x7f275a8dca90>"
      ]
     },
     "execution_count": 22,
     "metadata": {},
     "output_type": "execute_result"
    },
    {
     "data": {
      "image/png": "[encoded data removed]",
      "text/plain": [
       "<Figure size 432x288 with 1 Axes>"
      ]
     },
     "metadata": {
      "needs_background": "light"
     },
     "output_type": "display_data"
    }
   ],
   "source": [
    "mu= np.mean(bad1)\n",
    "sigma=np.std(bad1)\n",
    "normal = norm.rvs(size=10000, loc=mu, scale=np.var(bad1))\n",
    "ax = sns.distplot(normal, bins = 100, kde=True, color='blue',label='bad',hist=True)\n",
    "plt.legend()"
   ]
  },
  {
   "cell_type": "code",
   "execution_count": null,
   "metadata": {},
   "outputs": [],
   "source": []
  }
 ],
 "metadata": {
  "kernelspec": {
   "display_name": "Python 3",
   "language": "python",
   "name": "python3"
  },
  "language_info": {
   "codemirror_mode": {
    "name": "ipython",
    "version": 3
   },
   "file_extension": ".py",
   "mimetype": "text/x-python",
   "name": "python",
   "nbconvert_exporter": "python",
   "pygments_lexer": "ipython3",
   "version": "3.7.6"
  }
 },
 "nbformat": 4,
 "nbformat_minor": 4
}
